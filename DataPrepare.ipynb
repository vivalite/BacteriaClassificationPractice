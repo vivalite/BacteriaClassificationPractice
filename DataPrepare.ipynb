{
 "cells": [
  {
   "cell_type": "code",
   "execution_count": 1,
   "id": "347201eb",
   "metadata": {},
   "outputs": [],
   "source": [
    "import glob\n",
    "from PIL import Image, ImageOps\n",
    "import os.path, sys\n",
    "import shutil\n",
    "import math\n",
    "\n",
    "import splitfolders"
   ]
  },
  {
   "cell_type": "code",
   "execution_count": 2,
   "id": "c0f70437",
   "metadata": {},
   "outputs": [],
   "source": [
    "# function segment the images\n",
    "def SegmentImages(sPath,dPath,tgW,tgH):\n",
    "\n",
    "    dirs = os.listdir(sPath)\n",
    "\n",
    "    for dirItem in dirs:\n",
    "        fullpath = os.path.join(sPath, dirItem)\n",
    "        if not os.path.exists(os.path.join(dPath,dirItem)):\n",
    "            os.makedirs(os.path.join(dPath,dirItem))\n",
    "        print('Processing folder: '+ dirItem)\n",
    "        for imgFile in glob.glob(fullpath + '/*.tif'):\n",
    "            f,e = os.path.splitext(imgFile)\n",
    "            im = Image.open(imgFile)\n",
    "            grayIm = ImageOps.grayscale(im) # may not want to convert image to grayscale - colored stain actually gives useful information\n",
    "            imW, imH = im.size\n",
    "            wDiv = math.floor(imW/tgW)\n",
    "            hDiv = math.floor(imH/tgH)\n",
    "            \n",
    "            wOffset = math.floor((imW - wDiv * tgW)/2)\n",
    "            hOffset = math.floor((imH - hDiv * tgH)/2)\n",
    "            \n",
    "            idx=0\n",
    "            for h in range(hDiv):\n",
    "                for w in range(wDiv):\n",
    "                    idx+=1\n",
    "                    al=tgW*w+wOffset\n",
    "                    ah=tgH*h+hOffset\n",
    "                    bl=tgW*(w+1)+wOffset\n",
    "                    bh=tgH*(h+1)+hOffset\n",
    "                    #print(str(idx)+\":\"+str(al)+' '+str(ah)+' '+str(bl)+' '+str(bh))\n",
    "                    imCrop = grayIm.crop((al,ah,bl,bh))\n",
    "                    imCrop.save(os.path.join(os.path.join(dPath,dirItem), os.path.basename(f) + '_'+str(idx).zfill(2) + e))\n",
    "                    #print(os.path.join(os.path.join(dPath,dirItem), os.path.basename(f) + '_' + str(idx).zfill(2) + e))\n",
    "        "
   ]
  },
  {
   "cell_type": "code",
   "execution_count": 3,
   "id": "dc57ccaa",
   "metadata": {},
   "outputs": [
    {
     "name": "stdout",
     "output_type": "stream",
     "text": [
      "Spliting Files....\n",
      "Processing folder: Acinetobacter.baumanii\n",
      "Processing folder: Actinomyces.israeli\n",
      "Processing folder: Bacteroides.fragilis\n",
      "Processing folder: Bifidobacterium.spp\n",
      "Processing folder: Candida.albicans\n",
      "Processing folder: Clostridium.perfringens\n",
      "Processing folder: Enterococcus.faecalis\n",
      "Processing folder: Enterococcus.faecium\n",
      "Processing folder: Escherichia.coli\n",
      "Processing folder: Fusobacterium\n",
      "Processing folder: Lactobacillus.casei\n",
      "Processing folder: Lactobacillus.crispatus\n",
      "Processing folder: Lactobacillus.delbrueckii\n",
      "Processing folder: Lactobacillus.gasseri\n",
      "Processing folder: Lactobacillus.jehnsenii\n",
      "Processing folder: Lactobacillus.johnsonii\n",
      "Processing folder: Lactobacillus.paracasei\n",
      "Processing folder: Lactobacillus.plantarum\n",
      "Processing folder: Lactobacillus.reuteri\n",
      "Processing folder: Lactobacillus.rhamnosus\n",
      "Processing folder: Lactobacillus.salivarius\n",
      "Processing folder: Listeria.monocytogenes\n",
      "Processing folder: Micrococcus.spp\n",
      "Processing folder: Neisseria.gonorrhoeae\n",
      "Processing folder: Porfyromonas.gingivalis\n",
      "Processing folder: Propionibacterium.acnes\n",
      "Processing folder: Proteus\n",
      "Processing folder: Pseudomonas.aeruginosa\n",
      "Processing folder: Staphylococcus.aureus\n",
      "Processing folder: Staphylococcus.epidermidis\n",
      "Processing folder: Staphylococcus.saprophiticus\n",
      "Processing folder: Streptococcus.agalactiae\n",
      "Processing folder: Veionella\n",
      "Processing Splited files....\n"
     ]
    },
    {
     "name": "stderr",
     "output_type": "stream",
     "text": [
      "Copying files: 4134 files [00:17, 238.94 files/s]"
     ]
    },
    {
     "name": "stdout",
     "output_type": "stream",
     "text": [
      "Done!\n"
     ]
    },
    {
     "name": "stderr",
     "output_type": "stream",
     "text": [
      "\n"
     ]
    }
   ],
   "source": [
    "IMG_SIZE_W = 528  #Change this to match model requirement\n",
    "\n",
    "sourceFolder = \"C:\\\\DIBaS_Dataset\\\\Data\"\n",
    "tempFolder = \"C:\\\\DIBaS_Dataset\\\\Temp\"\n",
    "outputFolder = \"C:\\\\DIBaS_Dataset\\\\Data\" + str(IMG_SIZE_W)\n",
    "\n",
    "IMG_SIZE_H = IMG_SIZE_W # W=H as most model requires\n",
    "\n",
    "DO_NOT_SPLIT_FILES = False # True= don't split file (again)\n",
    "\n",
    "if not DO_NOT_SPLIT_FILES:\n",
    "    print(\"Spliting Files....\")\n",
    "    shutil.rmtree(tempFolder, ignore_errors = True)\n",
    "    os.mkdir(tempFolder)\n",
    "    SegmentImages(sourceFolder, tempFolder, IMG_SIZE_W,IMG_SIZE_H)\n",
    "\n",
    "print(\"Processing Splited files....\")\n",
    "shutil.rmtree(outputFolder,ignore_errors=True)\n",
    "os.mkdir(outputFolder)\n",
    "splitfolders.ratio(tempFolder, outputFolder, seed=42, ratio=(0.5,0.25,0.25)) # Change the ratio here (T,V,T)\n",
    "print(\"Done!\")"
   ]
  },
  {
   "cell_type": "code",
   "execution_count": null,
   "id": "773febc3",
   "metadata": {},
   "outputs": [],
   "source": []
  }
 ],
 "metadata": {
  "kernelspec": {
   "display_name": "Python 3 (ipykernel)",
   "language": "python",
   "name": "python3"
  },
  "language_info": {
   "codemirror_mode": {
    "name": "ipython",
    "version": 3
   },
   "file_extension": ".py",
   "mimetype": "text/x-python",
   "name": "python",
   "nbconvert_exporter": "python",
   "pygments_lexer": "ipython3",
   "version": "3.8.12"
  }
 },
 "nbformat": 4,
 "nbformat_minor": 5
}
